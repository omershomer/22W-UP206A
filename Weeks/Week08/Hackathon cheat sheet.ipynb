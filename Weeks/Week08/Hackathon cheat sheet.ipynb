{
 "cells": [
  {
   "cell_type": "markdown",
   "metadata": {},
   "source": [
    "# Hackathon: Cheat sheet\n",
    "\n",
    "Scenario:\n",
    "\n",
    "<img src=\"images/justice.png\">\n",
    "\n",
    "You are a group of interns working for \"Justice for All,\" a non-profit organization in Los Angeles. Ellen, the director, has called upon you, the resident spatial data scientists, to produce a report based on a .geojson file that your manager Kazu has compiled. Kazu downloaded the data from Social Explorer, cleaned it up, and merged it with a geojson file. Kazu's wife went into labor last night (they are expecting a baby girl!) so it is now up to you to continue where Kazu left off. Ellen has a board meeting in an hour and wants you to produce a report for her in a Google Doc with the following material:\n",
    "\n",
    "Part 1:\n",
    "- A series of preliminary stats/charts of the data\n",
    "- Maps: \n",
    "  - Make sure to zoom in to Los Angeles (crop Catalina Island out)\n",
    "  - A series of choropleth maps\n",
    "  - A series of side-by-side choropleth maps that show meaningful differences (make sure to make the legends, i.e. bin breaks the same on both maps)\n",
    "  - Produce several maps that show two data layers: One basemap choropleth, and another overlay that shows the top values of another variable with red boundaries\n",
    "  \n",
    "Part 2:\n",
    "- Import Council District boundaries from the LA Data Portal\n",
    "- Create a demographic profile for each Council District\n",
    "   - hint: Do a spatial join to get census tracts that intersect with each council district\n",
    "   - show only the census tracts for each council district\n",
    "   - use a loop and/or function to minimize your code\n"
   ]
  },
  {
   "cell_type": "markdown",
   "metadata": {},
   "source": [
    "## Import the geojson file (code cell provided)"
   ]
  },
  {
   "cell_type": "code",
   "execution_count": null,
   "metadata": {},
   "outputs": [],
   "source": [
    "import geopandas as gpd\n",
    "import pandas as pd\n",
    "import matplotlib.pyplot as plt"
   ]
  },
  {
   "cell_type": "code",
   "execution_count": null,
   "metadata": {},
   "outputs": [],
   "source": [
    "gdf = gpd.read_file('data/acs2015_2019.geojson')"
   ]
  },
  {
   "cell_type": "markdown",
   "metadata": {},
   "source": [
    "## Conduct a thorough exploration of the data, and answer the following questions:\n",
    "   - what fields are included?\n",
    "   - how many records and columns are there?\n",
    "   - what does the data look like?\n",
    "   - are the data types correct?"
   ]
  },
  {
   "cell_type": "code",
   "execution_count": null,
   "metadata": {
    "scrolled": true
   },
   "outputs": [],
   "source": [
    "list(gdf)"
   ]
  },
  {
   "cell_type": "code",
   "execution_count": null,
   "metadata": {},
   "outputs": [],
   "source": [
    "gdf.shape"
   ]
  },
  {
   "cell_type": "code",
   "execution_count": null,
   "metadata": {
    "scrolled": true
   },
   "outputs": [],
   "source": [
    "gdf.head()"
   ]
  },
  {
   "cell_type": "code",
   "execution_count": null,
   "metadata": {
    "scrolled": true
   },
   "outputs": [],
   "source": [
    "gdf.info()"
   ]
  },
  {
   "cell_type": "markdown",
   "metadata": {},
   "source": [
    "## Conduct preliminary statistical analysis on select fields of interest\n",
    "   - what are the means/medians of your variables of interest?\n",
    "   - what are the top 10 values of each?"
   ]
  },
  {
   "cell_type": "code",
   "execution_count": null,
   "metadata": {},
   "outputs": [],
   "source": [
    "indicators = ['% Population 25 Years and Over: Less than High School',\n",
    " '% Population 25 Years and Over: High School Graduate (Includes Equivalency)',\n",
    " '% Population 25 Years and Over: Some College',\n",
    " \"% Population 25 Years and Over: Bachelor's Degree\",\n",
    " \"% Population 25 Years and Over: Master's Degree\",\n",
    " '% Population 25 Years and Over: Professional School Degree',\n",
    " '% Population 25 Years and Over: Doctorate Degree',]"
   ]
  },
  {
   "cell_type": "code",
   "execution_count": null,
   "metadata": {},
   "outputs": [],
   "source": [
    "for indicator in indicators:\n",
    "    print ('mean for ' + indicator + ' is ' + str(gdf[indicator].mean()))"
   ]
  },
  {
   "cell_type": "code",
   "execution_count": null,
   "metadata": {},
   "outputs": [],
   "source": [
    "for indicator in indicators:\n",
    "    print(indicator)\n",
    "    print (gdf.sort_values(by = indicator, ascending=False)[indicator].head(10))"
   ]
  },
  {
   "cell_type": "markdown",
   "metadata": {},
   "source": [
    "## Create meaningful histograms\n",
    "\n",
    "- use `plt.hist`\n",
    "   \n",
    "Challenge:\n",
    "- add a vertical line for the mean and median\n",
    "- change the size of the plot\n",
    "- change the colors of the bins"
   ]
  },
  {
   "cell_type": "code",
   "execution_count": null,
   "metadata": {},
   "outputs": [],
   "source": [
    "def get_histogram(column = '% Population 25 Years and Over: Less than High School'):\n",
    "    series_to_plot=gdf[column]\n",
    "\n",
    "    plt.figure(figsize=(10,5))\n",
    "\n",
    "    plt.hist(series_to_plot,bins=50,color='skyblue')\n",
    "\n",
    "    plt.axvline(series_to_plot.mean(), color='k', linestyle='dashed', linewidth=1)\n",
    "    plt.axvline(series_to_plot.median(), color='r', linestyle='dashed', linewidth=1)\n",
    "    min_ylim, max_ylim = plt.ylim()\n",
    "    plt.text(series_to_plot.mean()*1.1, max_ylim*0.9, 'Mean: {:.2f}'.format(series_to_plot.mean()))\n",
    "    plt.text(series_to_plot.median()*1.1, max_ylim*0.8, 'Median: {:.2f}'.format(series_to_plot.median()),color='r')\n",
    "    plt.title(column + ' in Los Angeles County')\n"
   ]
  },
  {
   "cell_type": "code",
   "execution_count": null,
   "metadata": {},
   "outputs": [],
   "source": [
    "indicators = [ '% Population 25 Years and Over: Less than High School',\n",
    " '% Population 25 Years and Over: High School Graduate (Includes Equivalency)',\n",
    " '% Population 25 Years and Over: Some College',\n",
    " \"% Population 25 Years and Over: Bachelor's Degree\",\n",
    " \"% Population 25 Years and Over: Master's Degree\",\n",
    " '% Population 25 Years and Over: Professional School Degree',\n",
    " '% Population 25 Years and Over: Doctorate Degree',]"
   ]
  },
  {
   "cell_type": "code",
   "execution_count": null,
   "metadata": {
    "tags": []
   },
   "outputs": [],
   "source": [
    "for indicator in indicators:\n",
    "    get_histogram(column=indicator)"
   ]
  },
  {
   "cell_type": "markdown",
   "metadata": {},
   "source": [
    "# Maps"
   ]
  },
  {
   "cell_type": "markdown",
   "metadata": {},
   "source": [
    "## Create a single choropleth map with a variable of your choice \n",
    "\n",
    "- Make it big\n",
    "- Zoom in (don't show Catalina Island)"
   ]
  },
  {
   "cell_type": "code",
   "execution_count": null,
   "metadata": {},
   "outputs": [],
   "source": [
    "def get_map(column='% Population 25 Years and Over: Doctorate Degree'):\n",
    "    ax = gdf.plot(figsize=(10,10),\n",
    "                  column=column,\n",
    "                  legend=True,\n",
    "                  vmin=0,\n",
    "                  vmax=100,\n",
    "                  cmap='hot')\n",
    "    ax.set_ylim(33.6,34.9)\n",
    "    ax.set_title(column, fontsize=14)\n",
    "    ax.axis('off');"
   ]
  },
  {
   "cell_type": "code",
   "execution_count": null,
   "metadata": {
    "tags": []
   },
   "outputs": [],
   "source": [
    "for indicator in indicators:\n",
    "    get_map(indicator)"
   ]
  },
  {
   "cell_type": "markdown",
   "metadata": {},
   "source": [
    "## Create a side-by-side map\n",
    "\n",
    "- Zoom in (sorry Catalina)\n",
    "- Make the breakdowns the same between both maps\n",
    "\n",
    "Example arguments to make custom breakdowns\n",
    "```python\n",
    "gdf.plot(ax=ax[0],\n",
    "         column='% Total Population: White Alone',\n",
    "         legend=True,\n",
    "         scheme='user_defined', \n",
    "         classification_kwds={'bins':[20,40,60,80,100]},\n",
    "         cmap='Greens'\n",
    "        )\n",
    "```"
   ]
  },
  {
   "cell_type": "code",
   "execution_count": null,
   "metadata": {},
   "outputs": [],
   "source": [
    "column1 = '% Total Population: White Alone'\n",
    "column2 = '% Total Population: Black or African American Alone'\n",
    "fig,ax = plt.subplots(1,2,figsize=(15,8))\n",
    "\n",
    "gdf.plot(ax=ax[0],\n",
    "         column=column1,\n",
    "         legend=True,\n",
    "         scheme='user_defined', \n",
    "         classification_kwds={'bins':[20,40,60,80,100]},\n",
    "         cmap='plasma'\n",
    "        )\n",
    "\n",
    "ax[0].set_ylim(33.6,34.9)\n",
    "ax[0].set_title(column1, fontsize=14)\n",
    "ax[0].axis('off');\n",
    "\n",
    "gdf.plot(ax=ax[1],\n",
    "         column=column2,\n",
    "         legend=True,\n",
    "         scheme='user_defined', \n",
    "         classification_kwds={'bins':[20,40,60,80,100]},\n",
    "         cmap='plasma'\n",
    "        )\n",
    "\n",
    "ax[1].set_ylim(33.6,34.9)\n",
    "ax[1].set_title(column2, fontsize=14)\n",
    "ax[1].axis('off');\n",
    "\n"
   ]
  },
  {
   "cell_type": "markdown",
   "metadata": {},
   "source": [
    "## Create a single map with two layers\n",
    "\n",
    "- Make one variable the \"base\" choropleth map\n",
    "- Overlay another variable, only showing the boundary outlines that match a particular query\n",
    "- Make sure the map tells a story\n",
    "\n",
    "Sample arguments to make your second overlay:\n",
    "\n",
    "```python\n",
    "    alpha=1,\n",
    "    linewidth=1,\n",
    "    hatch=\"////\",\n",
    "    facecolor=\"none\", \n",
    "    color='red'\n",
    "```"
   ]
  },
  {
   "cell_type": "code",
   "execution_count": null,
   "metadata": {},
   "outputs": [],
   "source": [
    "gdf['% Population 15 Years and Over: Divorced'].describe()"
   ]
  },
  {
   "cell_type": "code",
   "execution_count": null,
   "metadata": {},
   "outputs": [],
   "source": [
    "column1 = '% Total Population: White Alone'\n",
    "column2 = '% Population 15 Years and Over: Divorced'\n",
    "fig,ax = plt.subplots(figsize=(15,15))\n",
    "\n",
    "gdf.plot(ax=ax,\n",
    "         column=column1,\n",
    "         legend=True,\n",
    "         scheme='user_defined', \n",
    "         classification_kwds={'bins':[20,40,60,80,100]},\n",
    "         cmap='Greens'\n",
    "        )\n",
    "\n",
    "gdf[gdf['% Population 15 Years and Over: Divorced'] >= 20].boundary.plot(ax=ax,\n",
    "        alpha=0.5,\n",
    "        linewidth=2,\n",
    "        hatch=\"///\",\n",
    "        color='red'\n",
    "        )\n",
    "\n",
    "ax.set_ylim(33.6,34.9)\n",
    "ax.set_title(column1 + ' (green)\\n' + '20% or more of population divorced (red)', fontsize=14)\n",
    "ax.axis('off');\n",
    "\n"
   ]
  },
  {
   "cell_type": "markdown",
   "metadata": {},
   "source": [
    "## Part 2: Council District Maps"
   ]
  },
  {
   "cell_type": "code",
   "execution_count": null,
   "metadata": {},
   "outputs": [],
   "source": [
    "# Council Districts\n",
    "gdf_cd = gpd.read_file('data/Council Districts.geojson')"
   ]
  },
  {
   "cell_type": "markdown",
   "metadata": {},
   "source": [
    "## Do a spatial join to get the census tracts inside of CD1"
   ]
  },
  {
   "cell_type": "code",
   "execution_count": null,
   "metadata": {},
   "outputs": [],
   "source": [
    "gdf_cd.info()"
   ]
  },
  {
   "cell_type": "code",
   "execution_count": null,
   "metadata": {},
   "outputs": [],
   "source": [
    "gdf_cd"
   ]
  },
  {
   "cell_type": "code",
   "execution_count": null,
   "metadata": {},
   "outputs": [],
   "source": [
    "# function to create a council district map\n",
    "def cd_map(district = '1', column = '% Total Population: Hispanic or Latino'):\n",
    "    # this cd\n",
    "    this_cd = gdf_cd[gdf_cd['district']==district]\n",
    "    \n",
    "    # spatial join to get tracts\n",
    "    tracts = gpd.sjoin(gdf,this_cd)\n",
    "\n",
    "    # plot it\n",
    "    fig,ax = plt.subplots()\n",
    "\n",
    "    # map\n",
    "    tracts.plot(ax=ax,\n",
    "                column=column, \n",
    "                vmin=0,\n",
    "                vmax=100,\n",
    "                legend=True)\n",
    "\n",
    "    ax.axis('off')\n",
    "    ax.set_title('Council District ' + district + '\\n(' + column + ')', fontsize=14)"
   ]
  },
  {
   "cell_type": "code",
   "execution_count": null,
   "metadata": {},
   "outputs": [],
   "source": [
    "cd_map()"
   ]
  },
  {
   "cell_type": "code",
   "execution_count": null,
   "metadata": {
    "tags": []
   },
   "outputs": [],
   "source": [
    "for index, row in gdf_cd.iterrows():\n",
    "    cd_map(district = row['district'])"
   ]
  },
  {
   "cell_type": "code",
   "execution_count": null,
   "metadata": {
    "scrolled": true
   },
   "outputs": [],
   "source": [
    "list(gdf)"
   ]
  },
  {
   "cell_type": "code",
   "execution_count": null,
   "metadata": {},
   "outputs": [],
   "source": [
    "indicators = [ '% Total Population: Not Hispanic or Latino',\n",
    " '% Total Population: Not Hispanic or Latino: White Alone',\n",
    " '% Total Population: Not Hispanic or Latino: Black or African American Alone',\n",
    " '% Total Population: Not Hispanic or Latino: American Indian and Alaska Native Alone',\n",
    " '% Total Population: Not Hispanic or Latino: Asian Alone',\n",
    " '% Total Population: Not Hispanic or Latino: Native Hawaiian and Other Pacific Islander Alone',\n",
    " '% Total Population: Not Hispanic or Latino: Some Other Race Alone',\n",
    " '% Total Population: Not Hispanic or Latino: Two or More Races',\n",
    " '% Total Population: Hispanic or Latino']"
   ]
  },
  {
   "cell_type": "code",
   "execution_count": null,
   "metadata": {
    "tags": []
   },
   "outputs": [],
   "source": [
    "for indicator in indicators:\n",
    "    cd_map(district='1',column=indicator)"
   ]
  },
  {
   "cell_type": "code",
   "execution_count": null,
   "metadata": {},
   "outputs": [],
   "source": []
  }
 ],
 "metadata": {
  "kernelspec": {
   "display_name": "Python 3 (ipykernel)",
   "language": "python",
   "name": "python3"
  },
  "language_info": {
   "codemirror_mode": {
    "name": "ipython",
    "version": 3
   },
   "file_extension": ".py",
   "mimetype": "text/x-python",
   "name": "python",
   "nbconvert_exporter": "python",
   "pygments_lexer": "ipython3",
   "version": "3.9.6"
  },
  "toc": {
   "base_numbering": 1,
   "nav_menu": {},
   "number_sections": true,
   "sideBar": true,
   "skip_h1_title": false,
   "title_cell": "Table of Contents",
   "title_sidebar": "Contents",
   "toc_cell": false,
   "toc_position": {},
   "toc_section_display": true,
   "toc_window_display": true
  }
 },
 "nbformat": 4,
 "nbformat_minor": 4
}
